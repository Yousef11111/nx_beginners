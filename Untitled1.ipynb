{
 "cells": [
  {
   "cell_type": "code",
   "execution_count": null,
   "metadata": {},
   "outputs": [],
   "source": []
  },
  {
   "cell_type": "code",
   "execution_count": 4,
   "metadata": {},
   "outputs": [],
   "source": [
    "import pylab as plt"
   ]
  },
  {
   "cell_type": "code",
   "execution_count": 3,
   "metadata": {},
   "outputs": [],
   "source": [
    "import networkx as nx"
   ]
  },
  {
   "cell_type": "code",
   "execution_count": 5,
   "metadata": {},
   "outputs": [],
   "source": [
    "from networkx.drawing.nx_agraph import graphviz_layout"
   ]
  },
  {
   "cell_type": "code",
   "execution_count": 13,
   "metadata": {},
   "outputs": [
    {
     "name": "stdout",
     "output_type": "stream",
     "text": [
      "2.4\n"
     ]
    },
    {
     "data": {
      "image/png": "[encoded data removed]",
      "text/plain": [
       "<Figure size 432x288 with 1 Axes>"
      ]
     },
     "metadata": {},
     "output_type": "display_data"
    }
   ],
   "source": [
    "import networkx as nx\n",
    "\n",
    "print (nx.__version__)\n",
    "\n",
    "G = nx.DiGraph()\n",
    "G.add_node(1,level=1)\n",
    "G.add_node(2,level=2)\n",
    "G.add_node(3,level=2)\n",
    "G.add_node(4,level=3)\n",
    "\n",
    "G.add_edge(1,2)\n",
    "G.add_edge(1,3)\n",
    "G.add_edge(2,4)\n",
    "\n",
    "import pylab as plt\n",
    "nx.draw(G, node_size=1600, cmap=plt.cm.Blues,\n",
    "                 node_color=range(len(G)),\n",
    "                 prog='dot')\n",
    "plt.show()"
   ]
  },
  {
   "cell_type": "code",
   "execution_count": 14,
   "metadata": {},
   "outputs": [
    {
     "data": {
      "text/plain": [
       "'hello.gv.pdf'"
      ]
     },
     "execution_count": 14,
     "metadata": {},
     "output_type": "execute_result"
    }
   ],
   "source": [
    "\n",
    "from graphviz import Digraph\n",
    "\n",
    "g = Digraph('G', filename='hello.gv')\n",
    "\n",
    "g.edge('Hello', 'World')\n",
    "\n",
    "g.view()"
   ]
  },
  {
   "cell_type": "code",
   "execution_count": 15,
   "metadata": {},
   "outputs": [
    {
     "data": {
      "text/plain": [
       "'process.gv.pdf'"
      ]
     },
     "execution_count": 15,
     "metadata": {},
     "output_type": "execute_result"
    }
   ],
   "source": [
    "# process.py - http://www.graphviz.org/content/process\n",
    "\n",
    "from graphviz import Graph\n",
    "\n",
    "g = Graph('G', filename='process.gv', engine='sfdp')\n",
    "\n",
    "g.edge('run', 'intr')\n",
    "g.edge('intr', 'runbl')\n",
    "g.edge('runbl', 'run')\n",
    "g.edge('run', 'kernel')\n",
    "g.edge('kernel', 'zombie')\n",
    "g.edge('kernel', 'sleep')\n",
    "g.edge('kernel', 'runmem')\n",
    "g.edge('sleep', 'swap')\n",
    "g.edge('swap', 'runswap')\n",
    "g.edge('runswap', 'new')\n",
    "g.edge('runswap', 'runmem')\n",
    "g.edge('new', 'runmem')\n",
    "g.edge('sleep', 'runmem')\n",
    "\n",
    "g.view()"
   ]
  },
  {
   "cell_type": "code",
   "execution_count": 16,
   "metadata": {},
   "outputs": [
    {
     "data": {
      "text/plain": [
       "'fsm.gv.pdf'"
      ]
     },
     "execution_count": 16,
     "metadata": {},
     "output_type": "execute_result"
    }
   ],
   "source": [
    "\n",
    "from graphviz import Digraph\n",
    "\n",
    "f = Digraph('finite_state_machine', filename='fsm.gv')\n",
    "f.attr(rankdir='LR', size='8,5')\n",
    "\n",
    "f.attr('node', shape='doublecircle')\n",
    "f.node('LR_0')\n",
    "f.node('LR_3')\n",
    "f.node('LR_4')\n",
    "f.node('LR_8')\n",
    "\n",
    "f.attr('node', shape='circle')\n",
    "f.edge('LR_0', 'LR_2', label='SS(B)')\n",
    "f.edge('LR_0', 'LR_1', label='SS(S)')\n",
    "f.edge('LR_1', 'LR_3', label='S($end)')\n",
    "f.edge('LR_2', 'LR_6', label='SS(b)')\n",
    "f.edge('LR_2', 'LR_5', label='SS(a)')\n",
    "f.edge('LR_2', 'LR_4', label='S(A)')\n",
    "f.edge('LR_5', 'LR_7', label='S(b)')\n",
    "f.edge('LR_5', 'LR_5', label='S(a)')\n",
    "f.edge('LR_6', 'LR_6', label='S(b)')\n",
    "f.edge('LR_6', 'LR_5', label='S(a)')\n",
    "f.edge('LR_7', 'LR_8', label='S(b)')\n",
    "f.edge('LR_7', 'LR_5', label='S(a)')\n",
    "f.edge('LR_8', 'LR_6', label='S(b)')\n",
    "f.edge('LR_8', 'LR_5', label='S(a)')\n",
    "\n",
    "f.view()"
   ]
  },
  {
   "cell_type": "code",
   "execution_count": 17,
   "metadata": {},
   "outputs": [
    {
     "data": {
      "text/plain": [
       "'cluster.gv.pdf'"
      ]
     },
     "execution_count": 17,
     "metadata": {},
     "output_type": "execute_result"
    }
   ],
   "source": [
    "from graphviz import Digraph\n",
    "\n",
    "g = Digraph('G', filename='cluster.gv')\n",
    "\n",
    "# NOTE: the subgraph name needs to begin with 'cluster' (all lowercase)\n",
    "#       so that Graphviz recognizes it as a special cluster subgraph\n",
    "\n",
    "with g.subgraph(name='cluster_0') as c:\n",
    "    c.attr(style='filled', color='lightgrey')\n",
    "    c.node_attr.update(style='filled', color='white')\n",
    "    c.edges([('a0', 'a1'), ('a1', 'a2'), ('a2', 'a3')])\n",
    "    c.attr(label='process #1')\n",
    "\n",
    "with g.subgraph(name='cluster_1') as c:\n",
    "    c.attr(color='blue')\n",
    "    c.node_attr['style'] = 'filled'\n",
    "    c.edges([('b0', 'b1'), ('b1', 'b2'), ('b2', 'b3')])\n",
    "    c.attr(label='process #2')\n",
    "\n",
    "g.edge('start', 'a0')\n",
    "g.edge('start', 'b0')\n",
    "g.edge('a1', 'b3')\n",
    "g.edge('b2', 'a3')\n",
    "g.edge('a3', 'a0')\n",
    "g.edge('a3', 'end')\n",
    "g.edge('b3', 'end')\n",
    "\n",
    "g.node('start', shape='Mdiamond')\n",
    "g.node('end', shape='Msquare')\n",
    "\n",
    "g.view()"
   ]
  },
  {
   "cell_type": "code",
   "execution_count": 18,
   "metadata": {},
   "outputs": [
    {
     "data": {
      "text/plain": [
       "'er.gv.pdf'"
      ]
     },
     "execution_count": 18,
     "metadata": {},
     "output_type": "execute_result"
    }
   ],
   "source": [
    "\n",
    "from graphviz import Graph\n",
    "\n",
    "e = Graph('ER', filename='er.gv', engine='neato')\n",
    "\n",
    "e.attr('node', shape='box')\n",
    "e.node('course')\n",
    "e.node('institute')\n",
    "e.node('student')\n",
    "\n",
    "e.attr('node', shape='ellipse')\n",
    "e.node('name0', label='name')\n",
    "e.node('name1', label='name')\n",
    "e.node('name2', label='name')\n",
    "e.node('code')\n",
    "e.node('grade')\n",
    "e.node('number')\n",
    "\n",
    "e.attr('node', shape='diamond', style='filled', color='lightgrey')\n",
    "e.node('C-I')\n",
    "e.node('S-C')\n",
    "e.node('S-I')\n",
    "\n",
    "e.edge('name0', 'course')\n",
    "e.edge('code', 'course')\n",
    "e.edge('course', 'C-I', label='n', len='1.00')\n",
    "e.edge('C-I', 'institute', label='1', len='1.00')\n",
    "e.edge('institute', 'name1')\n",
    "e.edge('institute', 'S-I', label='1', len='1.00')\n",
    "e.edge('S-I', 'student', label='n', len='1.00')\n",
    "e.edge('student', 'grade')\n",
    "e.edge('student', 'name2')\n",
    "e.edge('student', 'number')\n",
    "e.edge('student', 'S-C', label='m', len='1.00')\n",
    "e.edge('S-C', 'course', label='n', len='1.00')\n",
    "\n",
    "e.attr(label=r'\\n\\nEntity Relation Diagram\\ndrawn by NEATO')\n",
    "e.attr(fontsize='20')\n",
    "\n",
    "e.view()"
   ]
  },
  {
   "cell_type": "code",
   "execution_count": 19,
   "metadata": {},
   "outputs": [
    {
     "data": {
      "text/plain": [
       "'unix.gv.pdf'"
      ]
     },
     "execution_count": 19,
     "metadata": {},
     "output_type": "execute_result"
    }
   ],
   "source": [
    "from graphviz import Digraph\n",
    "\n",
    "u = Digraph('unix', filename='unix.gv',\n",
    "            node_attr={'color': 'lightblue2', 'style': 'filled'})\n",
    "u.attr(size='6,6')\n",
    "\n",
    "u.edge('5th Edition', '6th Edition')\n",
    "u.edge('5th Edition', 'PWB 1.0')\n",
    "u.edge('6th Edition', 'LSX')\n",
    "u.edge('6th Edition', '1 BSD')\n",
    "u.edge('6th Edition', 'Mini Unix')\n",
    "u.edge('6th Edition', 'Wollongong')\n",
    "u.edge('6th Edition', 'Interdata')\n",
    "u.edge('Interdata', 'Unix/TS 3.0')\n",
    "u.edge('Interdata', 'PWB 2.0')\n",
    "u.edge('Interdata', '7th Edition')\n",
    "u.edge('7th Edition', '8th Edition')\n",
    "u.edge('7th Edition', '32V')\n",
    "u.edge('7th Edition', 'V7M')\n",
    "u.edge('7th Edition', 'Ultrix-11')\n",
    "u.edge('7th Edition', 'Xenix')\n",
    "u.edge('7th Edition', 'UniPlus+')\n",
    "u.edge('V7M', 'Ultrix-11')\n",
    "u.edge('8th Edition', '9th Edition')\n",
    "u.edge('1 BSD', '2 BSD')\n",
    "u.edge('2 BSD', '2.8 BSD')\n",
    "u.edge('2.8 BSD', 'Ultrix-11')\n",
    "u.edge('2.8 BSD', '2.9 BSD')\n",
    "u.edge('32V', '3 BSD')\n",
    "u.edge('3 BSD', '4 BSD')\n",
    "u.edge('4 BSD', '4.1 BSD')\n",
    "u.edge('4.1 BSD', '4.2 BSD')\n",
    "u.edge('4.1 BSD', '2.8 BSD')\n",
    "u.edge('4.1 BSD', '8th Edition')\n",
    "u.edge('4.2 BSD', '4.3 BSD')\n",
    "u.edge('4.2 BSD', 'Ultrix-32')\n",
    "u.edge('PWB 1.0', 'PWB 1.2')\n",
    "u.edge('PWB 1.0', 'USG 1.0')\n",
    "u.edge('PWB 1.2', 'PWB 2.0')\n",
    "u.edge('USG 1.0', 'CB Unix 1')\n",
    "u.edge('USG 1.0', 'USG 2.0')\n",
    "u.edge('CB Unix 1', 'CB Unix 2')\n",
    "u.edge('CB Unix 2', 'CB Unix 3')\n",
    "u.edge('CB Unix 3', 'Unix/TS++')\n",
    "u.edge('CB Unix 3', 'PDP-11 Sys V')\n",
    "u.edge('USG 2.0', 'USG 3.0')\n",
    "u.edge('USG 3.0', 'Unix/TS 3.0')\n",
    "u.edge('PWB 2.0', 'Unix/TS 3.0')\n",
    "u.edge('Unix/TS 1.0', 'Unix/TS 3.0')\n",
    "u.edge('Unix/TS 3.0', 'TS 4.0')\n",
    "u.edge('Unix/TS++', 'TS 4.0')\n",
    "u.edge('CB Unix 3', 'TS 4.0')\n",
    "u.edge('TS 4.0', 'System V.0')\n",
    "u.edge('System V.0', 'System V.2')\n",
    "u.edge('System V.2', 'System V.3')\n",
    "\n",
    "u.view()"
   ]
  },
  {
   "cell_type": "code",
   "execution_count": 20,
   "metadata": {},
   "outputs": [
    {
     "data": {
      "text/plain": [
       "'structs.gv.pdf'"
      ]
     },
     "execution_count": 20,
     "metadata": {},
     "output_type": "execute_result"
    }
   ],
   "source": [
    "\n",
    "from graphviz import Digraph\n",
    "\n",
    "s = Digraph('structs', node_attr={'shape': 'plaintext'})\n",
    "\n",
    "s.node('struct1', '''<\n",
    "<TABLE BORDER=\"0\" CELLBORDER=\"1\" CELLSPACING=\"0\">\n",
    "  <TR>\n",
    "    <TD>left</TD>\n",
    "    <TD PORT=\"f1\">middle</TD>\n",
    "    <TD PORT=\"f2\">right</TD>\n",
    "  </TR>\n",
    "</TABLE>>''')\n",
    "s.node('struct2', '''<\n",
    "<TABLE BORDER=\"0\" CELLBORDER=\"1\" CELLSPACING=\"0\">\n",
    "  <TR>\n",
    "    <TD PORT=\"f0\">one</TD>\n",
    "    <TD>two</TD>\n",
    "  </TR>\n",
    "</TABLE>>''')\n",
    "s.node('struct3', '''<\n",
    "<TABLE BORDER=\"0\" CELLBORDER=\"1\" CELLSPACING=\"0\" CELLPADDING=\"4\">\n",
    "  <TR>\n",
    "    <TD ROWSPAN=\"3\">hello<BR/>world</TD>\n",
    "    <TD COLSPAN=\"3\">b</TD>\n",
    "    <TD ROWSPAN=\"3\">g</TD>\n",
    "    <TD ROWSPAN=\"3\">h</TD>\n",
    "  </TR>\n",
    "  <TR>\n",
    "    <TD>c</TD>\n",
    "    <TD PORT=\"here\">d</TD>\n",
    "    <TD>e</TD>\n",
    "  </TR>\n",
    "  <TR>\n",
    "    <TD COLSPAN=\"3\">f</TD>\n",
    "  </TR>\n",
    "</TABLE>>''')\n",
    "\n",
    "s.edges([('struct1:f1', 'struct2:f0'), ('struct1:f2', 'struct3:here')])\n",
    "\n",
    "s.view()"
   ]
  },
  {
   "cell_type": "code",
   "execution_count": 21,
   "metadata": {},
   "outputs": [
    {
     "data": {
      "text/plain": [
       "'structs_revisited.gv.pdf'"
      ]
     },
     "execution_count": 21,
     "metadata": {},
     "output_type": "execute_result"
    }
   ],
   "source": [
    "\n",
    "from graphviz import Digraph\n",
    "\n",
    "s = Digraph('structs', filename='structs_revisited.gv',\n",
    "            node_attr={'shape': 'record'})\n",
    "\n",
    "s.node('struct1', '<f0> left|<f1> middle|<f2> right')\n",
    "s.node('struct2', '<f0> one|<f1> two')\n",
    "s.node('struct3', r'hello\\nworld |{ b |{c|<here> d|e}| f}| g | h')\n",
    "\n",
    "s.edges([('struct1:f1', 'struct2:f0'), ('struct1:f2', 'struct3:here')])\n",
    "\n",
    "s.view()"
   ]
  },
  {
   "cell_type": "code",
   "execution_count": 22,
   "metadata": {},
   "outputs": [
    {
     "data": {
      "text/plain": [
       "'btree.gv.pdf'"
      ]
     },
     "execution_count": 22,
     "metadata": {},
     "output_type": "execute_result"
    }
   ],
   "source": [
    "\n",
    "from graphviz import Digraph, nohtml\n",
    "\n",
    "g = Digraph('g', filename='btree.gv',\n",
    "            node_attr={'shape': 'record', 'height': '.1'})\n",
    "\n",
    "g.node('node0', nohtml('<f0> |<f1> G|<f2>'))\n",
    "g.node('node1', nohtml('<f0> |<f1> E|<f2>'))\n",
    "g.node('node2', nohtml('<f0> |<f1> B|<f2>'))\n",
    "g.node('node3', nohtml('<f0> |<f1> F|<f2>'))\n",
    "g.node('node4', nohtml('<f0> |<f1> R|<f2>'))\n",
    "g.node('node5', nohtml('<f0> |<f1> H|<f2>'))\n",
    "g.node('node6', nohtml('<f0> |<f1> Y|<f2>'))\n",
    "g.node('node7', nohtml('<f0> |<f1> A|<f2>'))\n",
    "g.node('node8', nohtml('<f0> |<f1> C|<f2>'))\n",
    "\n",
    "g.edge('node0:f2', 'node4:f1')\n",
    "g.edge('node0:f0', 'node1:f1')\n",
    "g.edge('node1:f0', 'node2:f1')\n",
    "g.edge('node1:f2', 'node3:f1')\n",
    "g.edge('node2:f2', 'node8:f1')\n",
    "g.edge('node2:f0', 'node7:f1')\n",
    "g.edge('node4:f2', 'node6:f1')\n",
    "g.edge('node4:f0', 'node5:f1')\n",
    "\n",
    "g.view()"
   ]
  },
  {
   "cell_type": "code",
   "execution_count": 23,
   "metadata": {},
   "outputs": [
    {
     "data": {
      "text/plain": [
       "'traffic_lights.gv.pdf'"
      ]
     },
     "execution_count": 23,
     "metadata": {},
     "output_type": "execute_result"
    }
   ],
   "source": [
    "from graphviz import Digraph\n",
    "\n",
    "t = Digraph('TrafficLights', filename='traffic_lights.gv', engine='neato')\n",
    "\n",
    "t.attr('node', shape='box')\n",
    "for i in (2, 1):\n",
    "    t.node('gy%d' % i)\n",
    "    t.node('yr%d' % i)\n",
    "    t.node('rg%d' % i)\n",
    "\n",
    "t.attr('node', shape='circle', fixedsize='true', width='0.9')\n",
    "for i in (2, 1):\n",
    "    t.node('green%d' % i)\n",
    "    t.node('yellow%d' % i)\n",
    "    t.node('red%d' % i)\n",
    "    t.node('safe%d' % i)\n",
    "\n",
    "for i, j in [(2, 1), (1, 2)]:\n",
    "    t.edge('gy%d' % i, 'yellow%d' % i)\n",
    "    t.edge('rg%d' % i, 'green%d' % i)\n",
    "    t.edge('yr%d' % i, 'safe%d' % j)\n",
    "    t.edge('yr%d' % i, 'red%d' % i)\n",
    "    t.edge('safe%d' % i, 'rg%d' % i)\n",
    "    t.edge('green%d' % i, 'gy%d' % i)\n",
    "    t.edge('yellow%d' % i, 'yr%d' % i)\n",
    "    t.edge('red%d' % i, 'rg%d' % i)\n",
    "\n",
    "t.attr(overlap='false')\n",
    "t.attr(label=r'PetriNet Model TrafficLights\\n'\n",
    "             r'Extracted from ConceptBase and layed out by Graphviz')\n",
    "t.attr(fontsize='12')\n",
    "\n",
    "t.view()"
   ]
  },
  {
   "cell_type": "code",
   "execution_count": 24,
   "metadata": {},
   "outputs": [
    {
     "data": {
      "text/plain": [
       "'traffic_lights.gv.pdf'"
      ]
     },
     "execution_count": 24,
     "metadata": {},
     "output_type": "execute_result"
    }
   ],
   "source": [
    "from graphviz import Digraph\n",
    "\n",
    "t = Digraph('TrafficLights', filename='traffic_lights.gv', engine='neato')\n",
    "\n",
    "t.attr('node', shape='box')\n",
    "for i in (2, 1):\n",
    "    t.node('gy%d' % i)\n",
    "    t.node('yr%d' % i)\n",
    "    t.node('rg%d' % i)\n",
    "\n",
    "t.attr('node', shape='circle', fixedsize='true', width='0.9')\n",
    "for i in (2, 1):\n",
    "    t.node('green%d' % i)\n",
    "    t.node('yellow%d' % i)\n",
    "    t.node('red%d' % i)\n",
    "    t.node('safe%d' % i)\n",
    "\n",
    "for i, j in [(2, 1), (1, 2)]:\n",
    "    t.edge('gy%d' % i, 'yellow%d' % i)\n",
    "    t.edge('rg%d' % i, 'green%d' % i)\n",
    "    t.edge('yr%d' % i, 'safe%d' % j)\n",
    "    t.edge('yr%d' % i, 'red%d' % i)\n",
    "    t.edge('safe%d' % i, 'rg%d' % i)\n",
    "    t.edge('green%d' % i, 'gy%d' % i)\n",
    "    t.edge('yellow%d' % i, 'yr%d' % i)\n",
    "    t.edge('red%d' % i, 'rg%d' % i)\n",
    "\n",
    "t.attr(overlap='false')\n",
    "t.attr(label=r'PetriNet Model TrafficLights\\n'\n",
    "             r'Extracted from ConceptBase and layed out by Graphviz')\n",
    "t.attr(fontsize='12')\n",
    "\n",
    "t.view()"
   ]
  },
  {
   "cell_type": "code",
   "execution_count": 25,
   "metadata": {},
   "outputs": [
    {
     "data": {
      "text/plain": [
       "'fdpclust.gv.pdf'"
      ]
     },
     "execution_count": 25,
     "metadata": {},
     "output_type": "execute_result"
    }
   ],
   "source": [
    "\n",
    "from graphviz import Graph\n",
    "\n",
    "g = Graph('G', filename='fdpclust.gv', engine='fdp')\n",
    "\n",
    "g.node('e')\n",
    "\n",
    "with g.subgraph(name='clusterA') as a:\n",
    "    a.edge('a', 'b')\n",
    "    with a.subgraph(name='clusterC') as c:\n",
    "        c.edge('C', 'D')\n",
    "\n",
    "with g.subgraph(name='clusterB') as b:\n",
    "    b.edge('d', 'f')\n",
    "\n",
    "g.edge('d', 'D')\n",
    "g.edge('e', 'clusterB')\n",
    "g.edge('clusterC', 'clusterB')\n",
    "\n",
    "g.view()"
   ]
  },
  {
   "cell_type": "code",
   "execution_count": 26,
   "metadata": {},
   "outputs": [
    {
     "data": {
      "text/plain": [
       "'cluster_edge.gv.pdf'"
      ]
     },
     "execution_count": 26,
     "metadata": {},
     "output_type": "execute_result"
    }
   ],
   "source": [
    "from graphviz import Digraph\n",
    "\n",
    "g = Digraph('G', filename='cluster_edge.gv')\n",
    "g.attr(compound='true')\n",
    "\n",
    "with g.subgraph(name='cluster0') as c:\n",
    "    c.edges(['ab', 'ac', 'bd', 'cd'])\n",
    "\n",
    "with g.subgraph(name='cluster1') as c:\n",
    "    c.edges(['eg', 'ef'])\n",
    "\n",
    "g.edge('b', 'f', lhead='cluster1')\n",
    "g.edge('d', 'e')\n",
    "g.edge('c', 'g', ltail='cluster0', lhead='cluster1')\n",
    "g.edge('c', 'e', ltail='cluster0')\n",
    "g.edge('d', 'h')\n",
    "\n",
    "g.view()"
   ]
  },
  {
   "cell_type": "code",
   "execution_count": 27,
   "metadata": {},
   "outputs": [
    {
     "data": {
      "text/plain": [
       "'g_c_n.gv.pdf'"
      ]
     },
     "execution_count": 27,
     "metadata": {},
     "output_type": "execute_result"
    }
   ],
   "source": [
    "from graphviz import Graph\n",
    "\n",
    "g = Graph('G', filename='g_c_n.gv')\n",
    "g.attr(bgcolor='purple:pink', label='agraph', fontcolor='white')\n",
    "\n",
    "with g.subgraph(name='cluster1') as c:\n",
    "    c.attr(fillcolor='blue:cyan', label='acluster', fontcolor='white',\n",
    "           style='filled', gradientangle='270')\n",
    "    c.attr('node', shape='box', fillcolor='red:yellow',\n",
    "           style='filled', gradientangle='90')\n",
    "    c.node('anode')\n",
    "\n",
    "g.view()"
   ]
  },
  {
   "cell_type": "code",
   "execution_count": 28,
   "metadata": {},
   "outputs": [
    {
     "data": {
      "text/plain": [
       "'angles.gv.pdf'"
      ]
     },
     "execution_count": 28,
     "metadata": {},
     "output_type": "execute_result"
    }
   ],
   "source": [
    "\n",
    "from graphviz import Digraph\n",
    "\n",
    "g = Digraph('G', filename='angles.gv')\n",
    "g.attr(bgcolor='blue')\n",
    "\n",
    "with g.subgraph(name='cluster_1') as c:\n",
    "    c.attr(fontcolor='white')\n",
    "    c.attr('node', shape='circle', style='filled', fillcolor='white:black',\n",
    "           gradientangle='360', label='n9:360', fontcolor='black')\n",
    "    c.node('n9')\n",
    "    for i, a in zip(range(8, 0, -1), range(360 - 45, -1, -45)):\n",
    "        c.attr('node', gradientangle='%d' % a, label='n%d:%d' % (i, a))\n",
    "        c.node('n%d' % i)\n",
    "    c.attr(label='Linear Angle Variations (white to black gradient)')\n",
    "\n",
    "with g.subgraph(name='cluster_2') as c:\n",
    "    c.attr(fontcolor='white')\n",
    "    c.attr('node', shape='circle', style='radial', fillcolor='white:black',\n",
    "           gradientangle='360', label='n18:360', fontcolor='black')\n",
    "    c.node('n18')\n",
    "    for i, a in zip(range(17, 9, -1), range(360 - 45, -1, -45)):\n",
    "        c.attr('node', gradientangle='%d' % a, label='n%d:%d' % (i, a))\n",
    "        c.node('n%d' % i)\n",
    "    c.attr(label='Radial Angle Variations (white to black gradient)')\n",
    "\n",
    "g.edge('n5', 'n14')\n",
    "\n",
    "g.view()\n"
   ]
  },
  {
   "cell_type": "code",
   "execution_count": 29,
   "metadata": {},
   "outputs": [
    {
     "data": {
      "text/plain": [
       "'Digraph.gv.pdf'"
      ]
     },
     "execution_count": 29,
     "metadata": {},
     "output_type": "execute_result"
    }
   ],
   "source": [
    "\n",
    "import graphviz\n",
    "\n",
    "d = graphviz.Digraph()\n",
    "\n",
    "with d.subgraph() as s:\n",
    "    s.attr(rank='same')\n",
    "    s.node('A')\n",
    "    s.node('X')\n",
    "\n",
    "d.node('C')\n",
    "\n",
    "with d.subgraph() as s:\n",
    "    s.attr(rank='same')\n",
    "    s.node('B')\n",
    "    s.node('D')\n",
    "    s.node('Y')\n",
    "\n",
    "d.edges(['AB', 'AC', 'CD', 'XY'])\n",
    "\n",
    "d.view()"
   ]
  },
  {
   "cell_type": "code",
   "execution_count": null,
   "metadata": {},
   "outputs": [],
   "source": []
  }
 ],
 "metadata": {
  "kernelspec": {
   "display_name": "Python 3",
   "language": "python",
   "name": "python3"
  },
  "language_info": {
   "codemirror_mode": {
    "name": "ipython",
    "version": 3
   },
   "file_extension": ".py",
   "mimetype": "text/x-python",
   "name": "python",
   "nbconvert_exporter": "python",
   "pygments_lexer": "ipython3",
   "version": "3.6.7"
  }
 },
 "nbformat": 4,
 "nbformat_minor": 2
}
